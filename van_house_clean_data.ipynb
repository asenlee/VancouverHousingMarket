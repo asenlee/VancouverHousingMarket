{
 "cells": [
  {
   "cell_type": "code",
   "execution_count": 2,
   "metadata": {},
   "outputs": [],
   "source": [
    "# import get to call a get request on the site\n",
    "from requests import get\n",
    "from bs4 import BeautifulSoup"
   ]
  },
  {
   "cell_type": "code",
   "execution_count": 3,
   "metadata": {},
   "outputs": [],
   "source": [
    "# get the first page of the Vancouver housing prices\n",
    "response = get('https://vancouver.craigslist.org/search/apa?availabilityMode=0&hasPic=1')  # removed posts without images\n",
    "\n",
    "html_soup = BeautifulSoup(response.text, 'html.parser')"
   ]
  },
  {
   "cell_type": "code",
   "execution_count": 4,
   "metadata": {},
   "outputs": [
    {
     "name": "stdout",
     "output_type": "stream",
     "text": [
      "<class 'bs4.element.ResultSet'>\n",
      "120\n"
     ]
    }
   ],
   "source": [
    "# get the macro-container for the housing posts\n",
    "posts = html_soup.find_all('li', class_='result-row')\n",
    "print(type(posts))\n",
    "print(len(posts)) # should show 120 results for first page"
   ]
  },
  {
   "cell_type": "markdown",
   "metadata": {},
   "source": [
    "Practice with extracting one post"
   ]
  },
  {
   "cell_type": "code",
   "execution_count": 5,
   "metadata": {},
   "outputs": [],
   "source": [
    "post_one = posts[0]"
   ]
  },
  {
   "cell_type": "code",
   "execution_count": 6,
   "metadata": {},
   "outputs": [
    {
     "data": {
      "text/plain": [
       "'$3,300'"
      ]
     },
     "execution_count": 6,
     "metadata": {},
     "output_type": "execute_result"
    }
   ],
   "source": [
    "# grab the price of the first post\n",
    "post_one_price = post_one.a.text\n",
    "post_one_price.strip() # strip removes the whitespace before and after a string"
   ]
  },
  {
   "cell_type": "code",
   "execution_count": 7,
   "metadata": {},
   "outputs": [],
   "source": [
    "# grab the time and datetime it was posted\n",
    "post_one_time = post_one.find('time', class_= 'result-date')\n",
    "post_one_datetime = post_one_time['datetime']"
   ]
  },
  {
   "cell_type": "code",
   "execution_count": 8,
   "metadata": {},
   "outputs": [],
   "source": [
    "# title is 'a', link is grabbing the href attribute of that variable\n",
    "post_one_title = post_one.find('a', class_='result-title hdrlnk')\n",
    "post_one_link = post_one_title['href']\n",
    "\n",
    "post_one_title_text = post_one_title.text"
   ]
  },
  {
   "cell_type": "code",
   "execution_count": 9,
   "metadata": {},
   "outputs": [],
   "source": [
    "# number of bedrooms, sqft\n",
    "post_one_num_bedrooms = post_one.find('span', class_='housing').text.split()[0]\n",
    "\n",
    "post_one_sqft = post_one.find('span', class_='housing').text.split()[2][:-3]\n",
    "\n",
    "post_one_hood = post_one.find('span', class_='result-hood').text"
   ]
  },
  {
   "cell_type": "markdown",
   "metadata": {},
   "source": [
    "Now we are going to build out the loop.\n",
    "There isn't always information on square footage and number of bedrooms - we will use if/else statement to address this."
   ]
  },
  {
   "cell_type": "code",
   "execution_count": 10,
   "metadata": {},
   "outputs": [],
   "source": [
    "# import required packages\n",
    "\n",
    "from time import sleep\n",
    "from time import time\n",
    "import re\n",
    "from random import randint\n",
    "from warnings import warn\n",
    "from IPython.core.display import clear_output\n",
    "import numpy as np\n"
   ]
  },
  {
   "cell_type": "code",
   "execution_count": 11,
   "metadata": {},
   "outputs": [
    {
     "name": "stdout",
     "output_type": "stream",
     "text": [
      "Page 1 scraped successfully!\n",
      "Page 2 scraped successfully!\n",
      "Page 3 scraped successfully!\n",
      "Page 4 scraped successfully!\n",
      "Page 5 scraped successfully!\n",
      "Page 6 scraped successfully!\n",
      "Page 7 scraped successfully!\n",
      "Page 8 scraped successfully!\n",
      "Page 9 scraped successfully!\n",
      "Page 10 scraped successfully!\n",
      "Page 11 scraped successfully!\n",
      "Page 12 scraped successfully!\n",
      "Page 13 scraped successfully!\n",
      "Page 14 scraped successfully!\n",
      "Page 15 scraped successfully!\n",
      "Page 16 scraped successfully!\n",
      "Page 17 scraped successfully!\n",
      "Page 18 scraped successfully!\n",
      "Page 19 scraped successfully!\n",
      "Page 20 scraped successfully!\n",
      "Page 21 scraped successfully!\n",
      "Page 22 scraped successfully!\n",
      "Page 23 scraped successfully!\n",
      "Page 24 scraped successfully!\n",
      "Page 25 scraped successfully!\n",
      "Page 26 scraped successfully!\n",
      "\n",
      "\n",
      "Scrape complete!\n"
     ]
    }
   ],
   "source": [
    "# find the total number of posts to find the limit of the pagination\n",
    "results_num = html_soup.find('div', class_= 'search-legend')\n",
    "results_total = int(results_num.find('span', class_='totalcount').text) #pulled the total count of posts as the upper bound of the pages array\n",
    "\n",
    "# each page has 119 posts so each new page is defined as follows: s=120, s=240, s=360, and so on. So we need to step in size 120 in the np.arange function\n",
    "pages = np.arange(0, results_total+1, 120)\n",
    "\n",
    "iterations = 0\n",
    "\n",
    "post_timing = []\n",
    "post_hoods = []\n",
    "post_title_texts = []\n",
    "bedroom_counts = []\n",
    "sqfts = []\n",
    "post_links = []\n",
    "post_prices = []\n",
    "\n",
    "for page in pages:\n",
    "    \n",
    "    #get request\n",
    "    response = get(\"https://vancouver.craigslist.org/search/apa?availabilityMode=0&hasPic=1&\" \n",
    "                   + \"s=\" #the parameter for defining the page number \n",
    "                   + str(page) #the page number in the pages array from earlier\n",
    "                   )\n",
    "\n",
    "    sleep(randint(1,5))\n",
    "     \n",
    "    #throw warning for status codes that are not 200\n",
    "    if response.status_code != 200:\n",
    "        warn('Request: {}; Status code: {}'.format(requests, response.status_code))\n",
    "        \n",
    "    #define the html text\n",
    "    page_html = BeautifulSoup(response.text, 'html.parser')\n",
    "    \n",
    "    #define the posts\n",
    "    posts = html_soup.find_all('li', class_= 'result-row')\n",
    "        \n",
    "    #extract data item-wise\n",
    "    for post in posts:\n",
    "\n",
    "        if post.find('span', class_ = 'result-hood') is not None:\n",
    "\n",
    "            #posting date\n",
    "            #grab the datetime element 0 for date and 1 for time\n",
    "            post_datetime = post.find('time', class_= 'result-date')['datetime']\n",
    "            post_timing.append(post_datetime)\n",
    "\n",
    "            #neighborhoods\n",
    "            post_hood = post.find('span', class_= 'result-hood').text\n",
    "            post_hoods.append(post_hood)\n",
    "\n",
    "            #title text\n",
    "            post_title = post.find('a', class_='result-title hdrlnk')\n",
    "            post_title_text = post_title.text\n",
    "            post_title_texts.append(post_title_text)\n",
    "\n",
    "            #post link\n",
    "            post_link = post_title['href']\n",
    "            post_links.append(post_link)\n",
    "            \n",
    "            #removes the \\n whitespace from each side, removes the currency symbol, and turns it into an int\n",
    "            post_price = int(post.a.text.strip().replace(\"$\", \"\").replace(\",\",\"\")) \n",
    "            post_prices.append(post_price)\n",
    "            \n",
    "            if post.find('span', class_ = 'housing') is not None:\n",
    "                \n",
    "                #if the first element is accidentally square footage\n",
    "                if 'ft2' in post.find('span', class_ = 'housing').text.split()[0]:\n",
    "                    \n",
    "                    #make bedroom nan\n",
    "                    bedroom_count = np.nan\n",
    "                    bedroom_counts.append(bedroom_count)\n",
    "                    \n",
    "                    #make sqft the first element\n",
    "                    sqft = int(post.find('span', class_ = 'housing').text.split()[0][:-3])\n",
    "                    sqfts.append(sqft)\n",
    "                    \n",
    "                #if the length of the housing details element is more than 2\n",
    "                elif len(post.find('span', class_ = 'housing').text.split()) > 2:\n",
    "                    \n",
    "                    #therefore element 0 will be bedroom count\n",
    "                    bedroom_count = post.find('span', class_ = 'housing').text.replace(\"br\", \"\").split()[0]\n",
    "                    bedroom_counts.append(bedroom_count)\n",
    "                    \n",
    "                    #and sqft will be number 3, so set these here and append\n",
    "                    sqft = int(post.find('span', class_ = 'housing').text.split()[2][:-3])\n",
    "                    sqfts.append(sqft)\n",
    "                    \n",
    "                #if there is num bedrooms but no sqft\n",
    "                elif len(post.find('span', class_ = 'housing').text.split()) == 2:\n",
    "                    \n",
    "                    #therefore element 0 will be bedroom count\n",
    "                    bedroom_count = post.find('span', class_ = 'housing').text.replace(\"br\", \"\").split()[0]\n",
    "                    bedroom_counts.append(bedroom_count)\n",
    "                    \n",
    "                    #and sqft will be number 3, so set these here and append\n",
    "                    sqft = np.nan\n",
    "                    sqfts.append(sqft)                    \n",
    "                \n",
    "                else:\n",
    "                    bedroom_count = np.nan\n",
    "                    bedroom_counts.append(bedroom_count)\n",
    "                \n",
    "                    sqft = np.nan\n",
    "                    sqfts.append(sqft)\n",
    "                \n",
    "            #if none of those conditions catch, make bedroom nan, this won't be needed    \n",
    "            else:\n",
    "                bedroom_count = np.nan\n",
    "                bedroom_counts.append(bedroom_count)\n",
    "                \n",
    "                sqft = np.nan\n",
    "                sqfts.append(sqft)\n",
    "            #    bedroom_counts.append(bedroom_count)\n",
    "                \n",
    "            #    sqft = np.nan\n",
    "            #    sqfts.append(sqft)\n",
    "                \n",
    "    iterations += 1\n",
    "    print(\"Page \" + str(iterations) + \" scraped successfully!\")\n",
    "\n",
    "print(\"\\n\")\n",
    "\n",
    "print(\"Scrape complete!\")"
   ]
  },
  {
   "cell_type": "code",
   "execution_count": 12,
   "metadata": {},
   "outputs": [
    {
     "name": "stdout",
     "output_type": "stream",
     "text": [
      "<class 'pandas.core.frame.DataFrame'>\n",
      "RangeIndex: 3120 entries, 0 to 3119\n",
      "Data columns (total 7 columns):\n",
      " #   Column        Non-Null Count  Dtype  \n",
      "---  ------        --------------  -----  \n",
      " 0   posted        3120 non-null   object \n",
      " 1   neighborhood  3120 non-null   object \n",
      " 2   post title    3120 non-null   object \n",
      " 3   num_bedrooms  3068 non-null   object \n",
      " 4   sqft          2652 non-null   float64\n",
      " 5   URL           3120 non-null   object \n",
      " 6   price         3120 non-null   int64  \n",
      "dtypes: float64(1), int64(1), object(5)\n",
      "memory usage: 170.8+ KB\n",
      "None\n"
     ]
    },
    {
     "data": {
      "text/html": [
       "<div>\n",
       "<style scoped>\n",
       "    .dataframe tbody tr th:only-of-type {\n",
       "        vertical-align: middle;\n",
       "    }\n",
       "\n",
       "    .dataframe tbody tr th {\n",
       "        vertical-align: top;\n",
       "    }\n",
       "\n",
       "    .dataframe thead th {\n",
       "        text-align: right;\n",
       "    }\n",
       "</style>\n",
       "<table border=\"1\" class=\"dataframe\">\n",
       "  <thead>\n",
       "    <tr style=\"text-align: right;\">\n",
       "      <th></th>\n",
       "      <th>posted</th>\n",
       "      <th>neighborhood</th>\n",
       "      <th>post title</th>\n",
       "      <th>num_bedrooms</th>\n",
       "      <th>sqft</th>\n",
       "      <th>URL</th>\n",
       "      <th>price</th>\n",
       "    </tr>\n",
       "  </thead>\n",
       "  <tbody>\n",
       "    <tr>\n",
       "      <th>0</th>\n",
       "      <td>2022-06-13 20:26</td>\n",
       "      <td>(Vancouver)</td>\n",
       "      <td>[NextGen PM] 2BDR + Den Corner Unit at ELEMENTS</td>\n",
       "      <td>2</td>\n",
       "      <td>846.0</td>\n",
       "      <td>https://vancouver.craigslist.org/van/apa/d/van...</td>\n",
       "      <td>3300</td>\n",
       "    </tr>\n",
       "    <tr>\n",
       "      <th>1</th>\n",
       "      <td>2022-06-13 20:25</td>\n",
       "      <td>(Yaletown, Vancouver)</td>\n",
       "      <td>1 Bedroom, Den, 1 Bathroom Corner Suite with B...</td>\n",
       "      <td>1</td>\n",
       "      <td>795.0</td>\n",
       "      <td>https://vancouver.craigslist.org/van/apa/d/van...</td>\n",
       "      <td>3695</td>\n",
       "    </tr>\n",
       "    <tr>\n",
       "      <th>2</th>\n",
       "      <td>2022-06-13 20:25</td>\n",
       "      <td>(Fairview, Vancouver)</td>\n",
       "      <td>Charming 2 Bedroom Corner Suite With Views</td>\n",
       "      <td>2</td>\n",
       "      <td>950.0</td>\n",
       "      <td>https://vancouver.craigslist.org/van/apa/d/van...</td>\n",
       "      <td>3995</td>\n",
       "    </tr>\n",
       "    <tr>\n",
       "      <th>3</th>\n",
       "      <td>2022-06-13 20:24</td>\n",
       "      <td>(Olympic Village, Vancouver)</td>\n",
       "      <td>2 Level Luxury Penthouse for Rent - 4 Bedroom ...</td>\n",
       "      <td>4</td>\n",
       "      <td>2454.0</td>\n",
       "      <td>https://vancouver.craigslist.org/van/apa/d/van...</td>\n",
       "      <td>12250</td>\n",
       "    </tr>\n",
       "    <tr>\n",
       "      <th>4</th>\n",
       "      <td>2022-06-13 20:24</td>\n",
       "      <td>(north Vancouver)</td>\n",
       "      <td>Spacious 2 bedroom plus den with stunning fals...</td>\n",
       "      <td>2</td>\n",
       "      <td>1100.0</td>\n",
       "      <td>https://vancouver.craigslist.org/van/apa/d/van...</td>\n",
       "      <td>3650</td>\n",
       "    </tr>\n",
       "  </tbody>\n",
       "</table>\n",
       "</div>"
      ],
      "text/plain": [
       "             posted                   neighborhood  \\\n",
       "0  2022-06-13 20:26                    (Vancouver)   \n",
       "1  2022-06-13 20:25          (Yaletown, Vancouver)   \n",
       "2  2022-06-13 20:25          (Fairview, Vancouver)   \n",
       "3  2022-06-13 20:24   (Olympic Village, Vancouver)   \n",
       "4  2022-06-13 20:24              (north Vancouver)   \n",
       "\n",
       "                                          post title num_bedrooms    sqft  \\\n",
       "0    [NextGen PM] 2BDR + Den Corner Unit at ELEMENTS            2   846.0   \n",
       "1  1 Bedroom, Den, 1 Bathroom Corner Suite with B...            1   795.0   \n",
       "2         Charming 2 Bedroom Corner Suite With Views            2   950.0   \n",
       "3  2 Level Luxury Penthouse for Rent - 4 Bedroom ...            4  2454.0   \n",
       "4  Spacious 2 bedroom plus den with stunning fals...            2  1100.0   \n",
       "\n",
       "                                                 URL  price  \n",
       "0  https://vancouver.craigslist.org/van/apa/d/van...   3300  \n",
       "1  https://vancouver.craigslist.org/van/apa/d/van...   3695  \n",
       "2  https://vancouver.craigslist.org/van/apa/d/van...   3995  \n",
       "3  https://vancouver.craigslist.org/van/apa/d/van...  12250  \n",
       "4  https://vancouver.craigslist.org/van/apa/d/van...   3650  "
      ]
     },
     "execution_count": 12,
     "metadata": {},
     "output_type": "execute_result"
    }
   ],
   "source": [
    "# create a dataframe\n",
    "import pandas as pd\n",
    "\n",
    "van_housing = pd.DataFrame({'posted': post_timing, 'neighborhood': post_hoods,\n",
    "                            'post title': post_title_texts, 'num_bedrooms': bedroom_counts,\n",
    "                            'sqft': sqfts, 'URL': post_links, 'price': post_prices})\n",
    "\n",
    "print(van_housing.info())\n",
    "van_housing.head()"
   ]
  },
  {
   "cell_type": "markdown",
   "metadata": {},
   "source": [
    "Now we are going to clean the data."
   ]
  },
  {
   "cell_type": "code",
   "execution_count": 13,
   "metadata": {},
   "outputs": [
    {
     "data": {
      "text/plain": [
       "120"
      ]
     },
     "execution_count": 13,
     "metadata": {},
     "output_type": "execute_result"
    }
   ],
   "source": [
    "# drop duplicate URLs\n",
    "van_housing = van_housing.drop_duplicates(subset='URL')\n",
    "len(van_housing.drop_duplicates(subset='URL'))"
   ]
  },
  {
   "cell_type": "code",
   "execution_count": 14,
   "metadata": {},
   "outputs": [],
   "source": [
    "# make the number of bedrooms to float\n",
    "van_housing['num_bedrooms'] = van_housing['num_bedrooms'].apply(lambda x: float(x))"
   ]
  },
  {
   "cell_type": "code",
   "execution_count": 15,
   "metadata": {},
   "outputs": [],
   "source": [
    "# convert datetime string into datetime object\n",
    "from datetime import datetime\n",
    "\n",
    "van_housing['posted'] = pd.to_datetime(van_housing['posted'])"
   ]
  },
  {
   "cell_type": "code",
   "execution_count": 16,
   "metadata": {},
   "outputs": [
    {
     "data": {
      "text/plain": [
       "array([' (Vancouver)', ' (Yaletown, Vancouver)', ' (Fairview, Vancouver)',\n",
       "       ' (Olympic Village, Vancouver)', ' (north Vancouver)',\n",
       "       ' (Vancouver-Yaletown)', ' ((North Vancouver Upper Lonsdale))',\n",
       "       ' (Vancouver - Coal Harbour)', ' (989 Nelson Street)',\n",
       "       ' (19xx E.35th Avenue)', ' (Sullivan)', ' (5325 West Boulevard)',\n",
       "       ' (Fernie)', ' (Burnaby Heights)',\n",
       "       ' (Coquitlam - Burke Mountain area)', ' (West Cambie, Richmond)',\n",
       "       ' (Burnaby)', ' (Maple Ridge)', ' (Steveston North, Richmond)',\n",
       "       ' (Kitsilano, Vancouver)',\n",
       "       ' (West Vancouver / British Properties)',\n",
       "       ' (Downtown Vancouver / Coal Harbour / Fairmont Pacific Rim)',\n",
       "       ' (SURREY, WEST NEWTON)', ' (Dunbar)',\n",
       "       ' (777 richards st and robson st)', ' (West End)',\n",
       "       ' (Upper Lonsdale, North Vancouver)', ' (Eagle Ridge, Coquitlam)',\n",
       "       ' (Port Moody)', ' (city of vancouver)', ' (2nd Ave & Bayswater)',\n",
       "       ' (East Vancouver)', ' (Port Coquitlam)', ' (Burnaby North)',\n",
       "       ' (Commercial Drive)', ' (West vancouver)',\n",
       "       ' (Willoughby, Langley)', ' (1705-3096 WINDSOR GATE COQUITLAM)',\n",
       "       ' (207 10237 133 STREET)', ' (5470 ORMIDALE STREET)',\n",
       "       ' (15477 93A AVENUE)', ' (tricities/pitt/maple)',\n",
       "       ' (Main and 45th Avenue)', ' (Richmond)',\n",
       "       ' (vancouver west, ubc, kitsilano, point grey, pt grey)',\n",
       "       ' (vancouver west,vancouver east,cambie,ubc,main,fairview)',\n",
       "       ' (vancouver east, vanccouver west,ubc,main)',\n",
       "       ' (Westwood Plateau)',\n",
       "       ' (vancouver west,kitsilano,s granville,fairview, south)',\n",
       "       ' (richmond)', ' (vancouver west,vancouver east, main,ubc)',\n",
       "       ' (Cloverdale, Surrey)', ' (Surrey)', ' (North Vancouver)',\n",
       "       ' (Como Lake & Clarke)', ' (Panorama , Surrey)', ' (Coquitlam)',\n",
       "       ' (133 Street surrey)', ' (VANCOUVER FRASER)',\n",
       "       ' (Sullivan heights)', ' (vancouver)', ' (Hope)', ' (SFU Burnaby)',\n",
       "       ' (Point Grey)', ' (Fleetwood)', ' (coquitlam)',\n",
       "       ' (British Properties)', ' (South Cambie)', ' (Calverhall)',\n",
       "       ' (Room Share)', ' (delta/surrey/langley)', ' (Vancouver Heights)',\n",
       "       ' (Coquitam)', ' (Downtown)', ' (Horseshoe Bay)', ' (Glenmore)',\n",
       "       ' (Eagle Harbour)',\n",
       "       ' (2bd+2bth+own laundry Now or August 1st in East Vancouver!!!)',\n",
       "       ' (Central Lonsdale)', ' (Fairview)', ' (Lower Lonsdale)',\n",
       "       ' (Gibsons)', ' (Dundarave)', ' (Altamont)', ' (Caulfeild)',\n",
       "       ' (University VW)', ' (BURNABY HIGHGATE)', ' (Tsawwassen Delta)',\n",
       "       ' (RICHMOND CITY CENTRE)', ' (South Surrey)', ' (Kerrisdale)',\n",
       "       ' (Pemberton)', ' (Marpole)'], dtype=object)"
      ]
     },
     "execution_count": 16,
     "metadata": {},
     "output_type": "execute_result"
    }
   ],
   "source": [
    "van_housing['neighborhood'].unique()"
   ]
  },
  {
   "cell_type": "code",
   "execution_count": 17,
   "metadata": {},
   "outputs": [],
   "source": [
    "van_housing['neighborhood'] = van_housing['neighborhood'].map(lambda x: x.strip())"
   ]
  },
  {
   "cell_type": "code",
   "execution_count": 18,
   "metadata": {},
   "outputs": [],
   "source": [
    "# remove the parenthesis from the left and right of the neighborhoods\n",
    "van_housing['neighborhood'] = van_housing['neighborhood'].map(lambda x: x.lstrip('(').rstrip(')'))"
   ]
  },
  {
   "cell_type": "code",
   "execution_count": 19,
   "metadata": {},
   "outputs": [],
   "source": [
    "# titlecase them\n",
    "van_housing['neighborhood'] = van_housing['neighborhood'].str.title()"
   ]
  },
  {
   "cell_type": "code",
   "execution_count": 20,
   "metadata": {},
   "outputs": [
    {
     "data": {
      "text/plain": [
       "array(['Vancouver', 'Yaletown, Vancouver', 'Fairview, Vancouver',\n",
       "       'Olympic Village, Vancouver', 'North Vancouver',\n",
       "       'Vancouver-Yaletown', 'North Vancouver Upper Lonsdale',\n",
       "       'Vancouver - Coal Harbour', '989 Nelson Street',\n",
       "       '19Xx E.35Th Avenue', 'Sullivan', '5325 West Boulevard', 'Fernie',\n",
       "       'Burnaby Heights', 'Coquitlam - Burke Mountain Area',\n",
       "       'West Cambie, Richmond', 'Burnaby', 'Maple Ridge',\n",
       "       'Steveston North, Richmond', 'Kitsilano, Vancouver',\n",
       "       'West Vancouver / British Properties',\n",
       "       'Downtown Vancouver / Coal Harbour / Fairmont Pacific Rim',\n",
       "       'Surrey, West Newton', 'Dunbar', '777 Richards St And Robson St',\n",
       "       'West End', 'Upper Lonsdale, North Vancouver',\n",
       "       'Eagle Ridge, Coquitlam', 'Port Moody', 'City Of Vancouver',\n",
       "       '2Nd Ave & Bayswater', 'East Vancouver', 'Port Coquitlam',\n",
       "       'Burnaby North', 'Commercial Drive', 'West Vancouver',\n",
       "       'Willoughby, Langley', '1705-3096 Windsor Gate Coquitlam',\n",
       "       '207 10237 133 Street', '5470 Ormidale Street', '15477 93A Avenue',\n",
       "       'Tricities/Pitt/Maple', 'Main And 45Th Avenue', 'Richmond',\n",
       "       'Vancouver West, Ubc, Kitsilano, Point Grey, Pt Grey',\n",
       "       'Vancouver West,Vancouver East,Cambie,Ubc,Main,Fairview',\n",
       "       'Vancouver East, Vanccouver West,Ubc,Main', 'Westwood Plateau',\n",
       "       'Vancouver West,Kitsilano,S Granville,Fairview, South',\n",
       "       'Vancouver West,Vancouver East, Main,Ubc', 'Cloverdale, Surrey',\n",
       "       'Surrey', 'Como Lake & Clarke', 'Panorama , Surrey', 'Coquitlam',\n",
       "       '133 Street Surrey', 'Vancouver Fraser', 'Sullivan Heights',\n",
       "       'Hope', 'Sfu Burnaby', 'Point Grey', 'Fleetwood',\n",
       "       'British Properties', 'South Cambie', 'Calverhall', 'Room Share',\n",
       "       'Delta/Surrey/Langley', 'Vancouver Heights', 'Coquitam',\n",
       "       'Downtown', 'Horseshoe Bay', 'Glenmore', 'Eagle Harbour',\n",
       "       '2Bd+2Bth+Own Laundry Now Or August 1St In East Vancouver!!!',\n",
       "       'Central Lonsdale', 'Fairview', 'Lower Lonsdale', 'Gibsons',\n",
       "       'Dundarave', 'Altamont', 'Caulfeild', 'University Vw',\n",
       "       'Burnaby Highgate', 'Tsawwassen Delta', 'Richmond City Centre',\n",
       "       'South Surrey', 'Kerrisdale', 'Pemberton', 'Marpole'], dtype=object)"
      ]
     },
     "execution_count": 20,
     "metadata": {},
     "output_type": "execute_result"
    }
   ],
   "source": [
    "van_housing['neighborhood'].unique()"
   ]
  },
  {
   "cell_type": "code",
   "execution_count": 21,
   "metadata": {},
   "outputs": [],
   "source": [
    "# just take the first name of the neighborhood list, splitting on the '/' delimiter\n",
    "van_housing['neighborhood'] = van_housing['neighborhood'].apply(lambda x: x.split('/')[0])"
   ]
  },
  {
   "cell_type": "code",
   "execution_count": 22,
   "metadata": {},
   "outputs": [
    {
     "data": {
      "text/plain": [
       "array(['Vancouver', 'Yaletown, Vancouver', 'Fairview, Vancouver',\n",
       "       'Olympic Village, Vancouver', 'North Vancouver',\n",
       "       'Vancouver-Yaletown', 'North Vancouver Upper Lonsdale',\n",
       "       'Vancouver - Coal Harbour', '989 Nelson Street',\n",
       "       '19Xx E.35Th Avenue', 'Sullivan', '5325 West Boulevard', 'Fernie',\n",
       "       'Burnaby Heights', 'Coquitlam - Burke Mountain Area',\n",
       "       'West Cambie, Richmond', 'Burnaby', 'Maple Ridge',\n",
       "       'Steveston North, Richmond', 'Kitsilano, Vancouver',\n",
       "       'West Vancouver ', 'Downtown Vancouver ', 'Surrey, West Newton',\n",
       "       'Dunbar', '777 Richards St And Robson St', 'West End',\n",
       "       'Upper Lonsdale, North Vancouver', 'Eagle Ridge, Coquitlam',\n",
       "       'Port Moody', 'City Of Vancouver', '2Nd Ave & Bayswater',\n",
       "       'East Vancouver', 'Port Coquitlam', 'Burnaby North',\n",
       "       'Commercial Drive', 'West Vancouver', 'Willoughby, Langley',\n",
       "       '1705-3096 Windsor Gate Coquitlam', '207 10237 133 Street',\n",
       "       '5470 Ormidale Street', '15477 93A Avenue', 'Tricities',\n",
       "       'Main And 45Th Avenue', 'Richmond',\n",
       "       'Vancouver West, Ubc, Kitsilano, Point Grey, Pt Grey',\n",
       "       'Vancouver West,Vancouver East,Cambie,Ubc,Main,Fairview',\n",
       "       'Vancouver East, Vanccouver West,Ubc,Main', 'Westwood Plateau',\n",
       "       'Vancouver West,Kitsilano,S Granville,Fairview, South',\n",
       "       'Vancouver West,Vancouver East, Main,Ubc', 'Cloverdale, Surrey',\n",
       "       'Surrey', 'Como Lake & Clarke', 'Panorama , Surrey', 'Coquitlam',\n",
       "       '133 Street Surrey', 'Vancouver Fraser', 'Sullivan Heights',\n",
       "       'Hope', 'Sfu Burnaby', 'Point Grey', 'Fleetwood',\n",
       "       'British Properties', 'South Cambie', 'Calverhall', 'Room Share',\n",
       "       'Delta', 'Vancouver Heights', 'Coquitam', 'Downtown',\n",
       "       'Horseshoe Bay', 'Glenmore', 'Eagle Harbour',\n",
       "       '2Bd+2Bth+Own Laundry Now Or August 1St In East Vancouver!!!',\n",
       "       'Central Lonsdale', 'Fairview', 'Lower Lonsdale', 'Gibsons',\n",
       "       'Dundarave', 'Altamont', 'Caulfeild', 'University Vw',\n",
       "       'Burnaby Highgate', 'Tsawwassen Delta', 'Richmond City Centre',\n",
       "       'South Surrey', 'Kerrisdale', 'Pemberton', 'Marpole'], dtype=object)"
      ]
     },
     "execution_count": 22,
     "metadata": {},
     "output_type": "execute_result"
    }
   ],
   "source": [
    "van_housing['neighborhood'].unique()"
   ]
  },
  {
   "cell_type": "code",
   "execution_count": 23,
   "metadata": {},
   "outputs": [],
   "source": [
    "van_housing['neighborhood'].replace('Fraser And 37Th', 'Fraser', inplace = True)\n",
    "van_housing['neighborhood'].replace('Clayton Heights, Surrey', 'Surrey', inplace = True)\n",
    "van_housing['neighborhood'].replace('Mount Plesant', 'Mount Pleasant', inplace = True)\n",
    "van_housing['neighborhood'].replace('Vancouver, Mount Pleasant East', 'Mount Pleasant', inplace = True)\n",
    "van_housing['neighborhood'].replace('7428 14Th Avenue, Burnaby', 'Burnaby', inplace = True)\n",
    "van_housing['neighborhood'].replace('Central Surrey', 'Surrey', inplace = True)\n",
    "van_housing['neighborhood'].replace('Surrey Central Gateway Skytrain', 'Surrey', inplace = True)\n",
    "van_housing['neighborhood'].replace('Marpole-Oakridge, Vancouver', 'Marpole', inplace = True)\n",
    "van_housing['neighborhood'].replace('103-747 3 Street East, North Vancouver, Bc', 'North Vancouver', inplace = True)\n",
    "van_housing['neighborhood'].replace('Cloverdale (69 Ave And 184 Street', 'Marpole', inplace = True)\n",
    "van_housing['neighborhood'].replace('Central Lonsdale', 'North Vancouver', inplace = True)\n",
    "van_housing['neighborhood'].replace('City Of Vancouver', 'Vancouver', inplace = True)\n",
    "van_housing['neighborhood'].replace('Coquitlam Town Centre', 'Coquitlam', inplace = True)\n"
   ]
  },
  {
   "cell_type": "code",
   "execution_count": 25,
   "metadata": {},
   "outputs": [
    {
     "data": {
      "text/plain": [
       "array(['Vancouver', 'Yaletown, Vancouver', 'Fairview, Vancouver',\n",
       "       'Olympic Village, Vancouver', 'North Vancouver',\n",
       "       'Vancouver-Yaletown', 'North Vancouver Upper Lonsdale',\n",
       "       'Vancouver - Coal Harbour', '989 Nelson Street',\n",
       "       '19Xx E.35Th Avenue', 'Sullivan', '5325 West Boulevard', 'Fernie',\n",
       "       'Burnaby Heights', 'Coquitlam - Burke Mountain Area',\n",
       "       'West Cambie, Richmond', 'Burnaby', 'Maple Ridge',\n",
       "       'Steveston North, Richmond', 'Kitsilano, Vancouver',\n",
       "       'West Vancouver ', 'Downtown Vancouver ', 'Surrey, West Newton',\n",
       "       'Dunbar', '777 Richards St And Robson St', 'West End',\n",
       "       'Upper Lonsdale, North Vancouver', 'Eagle Ridge, Coquitlam',\n",
       "       'Port Moody', '2Nd Ave & Bayswater', 'East Vancouver',\n",
       "       'Port Coquitlam', 'Burnaby North', 'Commercial Drive',\n",
       "       'West Vancouver', 'Willoughby, Langley',\n",
       "       '1705-3096 Windsor Gate Coquitlam', '207 10237 133 Street',\n",
       "       '5470 Ormidale Street', '15477 93A Avenue', 'Tricities',\n",
       "       'Main And 45Th Avenue', 'Richmond',\n",
       "       'Vancouver West, Ubc, Kitsilano, Point Grey, Pt Grey',\n",
       "       'Vancouver West,Vancouver East,Cambie,Ubc,Main,Fairview',\n",
       "       'Vancouver East, Vanccouver West,Ubc,Main', 'Westwood Plateau',\n",
       "       'Vancouver West,Kitsilano,S Granville,Fairview, South',\n",
       "       'Vancouver West,Vancouver East, Main,Ubc', 'Cloverdale, Surrey',\n",
       "       'Surrey', 'Como Lake & Clarke', 'Panorama , Surrey', 'Coquitlam',\n",
       "       '133 Street Surrey', 'Vancouver Fraser', 'Sullivan Heights',\n",
       "       'Hope', 'Sfu Burnaby', 'Point Grey', 'Fleetwood',\n",
       "       'British Properties', 'South Cambie', 'Calverhall', 'Room Share',\n",
       "       'Delta', 'Vancouver Heights', 'Coquitam', 'Downtown',\n",
       "       'Horseshoe Bay', 'Glenmore', 'Eagle Harbour',\n",
       "       '2Bd+2Bth+Own Laundry Now Or August 1St In East Vancouver!!!',\n",
       "       'Fairview', 'Lower Lonsdale', 'Gibsons', 'Dundarave', 'Altamont',\n",
       "       'Caulfeild', 'University Vw', 'Burnaby Highgate',\n",
       "       'Tsawwassen Delta', 'Richmond City Centre', 'South Surrey',\n",
       "       'Kerrisdale', 'Pemberton', 'Marpole'], dtype=object)"
      ]
     },
     "execution_count": 25,
     "metadata": {},
     "output_type": "execute_result"
    }
   ],
   "source": [
    "van_housing[\"neighborhood\"].unique()"
   ]
  },
  {
   "cell_type": "code",
   "execution_count": 26,
   "metadata": {},
   "outputs": [],
   "source": [
    "for item in van_housing[\"neighborhood\"]:\n",
    "    if \"West Vancouver\" in item:\n",
    "        van_housing[\"neighborhood\"].replace(item, \"West Vancouver\", inplace = True)\n",
    "    elif \"North Vancouver\" in item:\n",
    "        van_housing[\"neighborhood\"].replace(item, \"North Vancouver\", inplace = True)\n",
    "    elif \"East Vancouver\" in item:\n",
    "        van_housing[\"neighborhood\"].replace(item, \"East Vancouver\", inplace=True)\n",
    "    elif \"Surrey\" in item:\n",
    "        van_housing[\"neighborhood\"].replace(item, \"Surrey\", inplace=True)\n",
    "    elif \"Burnaby\" in item:\n",
    "        van_housing[\"neighborhood\"].replace(item, \"Burnaby\", inplace=True)\n",
    "    elif \"Coquitlam\" in item:\n",
    "        van_housing[\"neighborhood\"].replace(item, \"Coquitlam\", inplace=True)\n",
    "    elif \"Richmond\" in item:\n",
    "        van_housing[\"neighborhood\"].replace(item, \"Richmond\", inplace=True)\n",
    "    elif \"Vancouver West\" in item:\n",
    "        van_housing[\"neighborhood\"].replace(item, \"Vancouver\", inplace=True)\n",
    "    elif \"Vancouver\" in item:\n",
    "        van_housing[\"neighborhood\"].replace(item, \"Vancouver\", inplace= True)"
   ]
  },
  {
   "cell_type": "code",
   "execution_count": 27,
   "metadata": {},
   "outputs": [
    {
     "data": {
      "text/plain": [
       "array(['Vancouver', 'North Vancouver', '989 Nelson Street',\n",
       "       '19Xx E.35Th Avenue', 'Sullivan', '5325 West Boulevard', 'Fernie',\n",
       "       'Burnaby', 'Coquitlam', 'Richmond', 'Maple Ridge',\n",
       "       'West Vancouver', 'Surrey', 'Dunbar',\n",
       "       '777 Richards St And Robson St', 'West End', 'Port Moody',\n",
       "       '2Nd Ave & Bayswater', 'East Vancouver', 'Commercial Drive',\n",
       "       'Willoughby, Langley', '207 10237 133 Street',\n",
       "       '5470 Ormidale Street', '15477 93A Avenue', 'Tricities',\n",
       "       'Main And 45Th Avenue', 'Westwood Plateau', 'Como Lake & Clarke',\n",
       "       'Sullivan Heights', 'Hope', 'Point Grey', 'Fleetwood',\n",
       "       'British Properties', 'South Cambie', 'Calverhall', 'Room Share',\n",
       "       'Delta', 'Coquitam', 'Downtown', 'Horseshoe Bay', 'Glenmore',\n",
       "       'Eagle Harbour', 'Fairview', 'Lower Lonsdale', 'Gibsons',\n",
       "       'Dundarave', 'Altamont', 'Caulfeild', 'University Vw',\n",
       "       'Tsawwassen Delta', 'Kerrisdale', 'Pemberton', 'Marpole'],\n",
       "      dtype=object)"
      ]
     },
     "execution_count": 27,
     "metadata": {},
     "output_type": "execute_result"
    }
   ],
   "source": [
    "van_housing[\"neighborhood\"].unique()"
   ]
  },
  {
   "cell_type": "code",
   "execution_count": 28,
   "metadata": {},
   "outputs": [],
   "source": [
    "van_housing['neighborhood'].replace('989 Nelson Street', 'Vancouver', inplace = True)\n",
    "van_housing['neighborhood'].replace('19Xx E.35Th Avenue', 'East Vancouver', inplace = True)\n",
    "van_housing['neighborhood'].replace('Sullivan', 'Surrey', inplace = True)\n",
    "van_housing['neighborhood'].replace('Dunbar', 'Vancouver', inplace = True)\n",
    "van_housing['neighborhood'].replace('777 Richards St And Robson St', 'Vancouver', inplace = True)\n",
    "van_housing['neighborhood'].replace('West End', 'Vancouver', inplace = True)\n",
    "van_housing['neighborhood'].replace('2Nd Ave & Bayswater', 'Vancouver', inplace = True)\n",
    "van_housing['neighborhood'].replace('Commercial Drive', 'Vancouver', inplace = True)\n",
    "van_housing['neighborhood'].replace('Willoughby, Langley', 'Langley', inplace = True)\n",
    "van_housing['neighborhood'].replace('207 10237 133 Street', 'Vancouver', inplace = True)\n",
    "van_housing['neighborhood'].replace('207 10237 133 Street', 'Surrey', inplace = True)\n",
    "van_housing['neighborhood'].replace('5470 Ormidale Street', 'Vancouver', inplace = True)\n",
    "van_housing['neighborhood'].replace('15477 93A Avenue', 'Surrey', inplace = True)\n",
    "van_housing['neighborhood'].replace('Main And 45Th Avenue', 'Vancouver', inplace = True)\n",
    "van_housing['neighborhood'].replace('Westwood Plateau', 'Coquitlam', inplace = True)\n",
    "van_housing['neighborhood'].replace('Como Lake & Clarke', 'Coquitlam', inplace = True)\n",
    "van_housing['neighborhood'].replace('Sullivan Heights', 'Surrey', inplace = True)\n",
    "van_housing['neighborhood'].replace('Point Grey', 'Vancouver', inplace = True)\n",
    "van_housing['neighborhood'].replace('Fleetwood', 'Surrey', inplace = True)\n",
    "van_housing['neighborhood'].replace('British Properties', 'West Vancouver', inplace = True)\n",
    "van_housing['neighborhood'].replace('South Cambie', 'Vancouver', inplace = True)\n",
    "van_housing['neighborhood'].replace('Calverhall', 'North Vancouver', inplace = True)\n",
    "van_housing['neighborhood'].replace('Downtown', 'Vancouver', inplace = True)\n",
    "van_housing['neighborhood'].replace('Eagle Harbour', 'West Vancouver', inplace = True)\n",
    "van_housing['neighborhood'].replace('Fairview', 'Vancouver', inplace = True)\n",
    "van_housing['neighborhood'].replace('Lower Lonsdale', 'North Vancouver', inplace = True)\n",
    "van_housing['neighborhood'].replace('University Vw', 'Vancouver', inplace = True)\n",
    "van_housing['neighborhood'].replace('Tsawwassen Delta', 'Delta', inplace = True)\n"
   ]
  },
  {
   "cell_type": "code",
   "execution_count": 29,
   "metadata": {},
   "outputs": [
    {
     "data": {
      "text/plain": [
       "array(['Vancouver', 'North Vancouver', 'East Vancouver', 'Surrey',\n",
       "       '5325 West Boulevard', 'Fernie', 'Burnaby', 'Coquitlam',\n",
       "       'Richmond', 'Maple Ridge', 'West Vancouver', 'Port Moody',\n",
       "       'Langley', 'Tricities', 'Hope', 'Room Share', 'Delta', 'Coquitam',\n",
       "       'Horseshoe Bay', 'Glenmore', 'Gibsons', 'Dundarave', 'Altamont',\n",
       "       'Caulfeild', 'Kerrisdale', 'Pemberton', 'Marpole'], dtype=object)"
      ]
     },
     "execution_count": 29,
     "metadata": {},
     "output_type": "execute_result"
    }
   ],
   "source": [
    "van_housing['neighborhood'].unique()"
   ]
  },
  {
   "cell_type": "code",
   "execution_count": 30,
   "metadata": {},
   "outputs": [],
   "source": [
    "# save to csv\n",
    "van_housing.to_csv(\"van_housing_Jun_13_21_clean.csv\", index=False)"
   ]
  }
 ],
 "metadata": {
  "interpreter": {
   "hash": "09863aa0f680a6f33aa065ba1bc1423053df0756ea943af2eb34e7c8be644780"
  },
  "kernelspec": {
   "display_name": "Python 3.9.7 ('cpsc330')",
   "language": "python",
   "name": "python3"
  },
  "language_info": {
   "codemirror_mode": {
    "name": "ipython",
    "version": 3
   },
   "file_extension": ".py",
   "mimetype": "text/x-python",
   "name": "python",
   "nbconvert_exporter": "python",
   "pygments_lexer": "ipython3",
   "version": "3.9.7"
  },
  "orig_nbformat": 4
 },
 "nbformat": 4,
 "nbformat_minor": 2
}
